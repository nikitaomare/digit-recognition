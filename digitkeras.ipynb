{
 "cells": [
  {
   "cell_type": "code",
   "execution_count": 34,
   "metadata": {},
   "outputs": [],
   "source": [
    "import numpy as np\n",
    "import pandas as pd\n",
    "import keras\n",
    "\n",
    "from sklearn.model_selection import train_test_split\n",
    "from keras.layers import Conv2D,Input,Dense,BatchNormalization,Flatten,ZeroPadding2D,Activation,MaxPooling2D\n",
    "from keras.models import Sequential\n",
    "from keras.models import Model as model\n",
    "\n",
    "import matplotlib.pyplot as plt\n",
    "from matplotlib.pyplot import imshow\n",
    "%matplotlib inline"
   ]
  },
  {
   "cell_type": "code",
   "execution_count": 47,
   "metadata": {},
   "outputs": [
    {
     "data": {
      "text/html": [
       "<div>\n",
       "<style scoped>\n",
       "    .dataframe tbody tr th:only-of-type {\n",
       "        vertical-align: middle;\n",
       "    }\n",
       "\n",
       "    .dataframe tbody tr th {\n",
       "        vertical-align: top;\n",
       "    }\n",
       "\n",
       "    .dataframe thead th {\n",
       "        text-align: right;\n",
       "    }\n",
       "</style>\n",
       "<table border=\"1\" class=\"dataframe\">\n",
       "  <thead>\n",
       "    <tr style=\"text-align: right;\">\n",
       "      <th></th>\n",
       "      <th>pixel0</th>\n",
       "      <th>pixel1</th>\n",
       "      <th>pixel2</th>\n",
       "      <th>pixel3</th>\n",
       "      <th>pixel4</th>\n",
       "      <th>pixel5</th>\n",
       "      <th>pixel6</th>\n",
       "      <th>pixel7</th>\n",
       "      <th>pixel8</th>\n",
       "      <th>pixel9</th>\n",
       "      <th>...</th>\n",
       "      <th>pixel774</th>\n",
       "      <th>pixel775</th>\n",
       "      <th>pixel776</th>\n",
       "      <th>pixel777</th>\n",
       "      <th>pixel778</th>\n",
       "      <th>pixel779</th>\n",
       "      <th>pixel780</th>\n",
       "      <th>pixel781</th>\n",
       "      <th>pixel782</th>\n",
       "      <th>pixel783</th>\n",
       "    </tr>\n",
       "  </thead>\n",
       "  <tbody>\n",
       "    <tr>\n",
       "      <th>0</th>\n",
       "      <td>0</td>\n",
       "      <td>0</td>\n",
       "      <td>0</td>\n",
       "      <td>0</td>\n",
       "      <td>0</td>\n",
       "      <td>0</td>\n",
       "      <td>0</td>\n",
       "      <td>0</td>\n",
       "      <td>0</td>\n",
       "      <td>0</td>\n",
       "      <td>...</td>\n",
       "      <td>0</td>\n",
       "      <td>0</td>\n",
       "      <td>0</td>\n",
       "      <td>0</td>\n",
       "      <td>0</td>\n",
       "      <td>0</td>\n",
       "      <td>0</td>\n",
       "      <td>0</td>\n",
       "      <td>0</td>\n",
       "      <td>0</td>\n",
       "    </tr>\n",
       "    <tr>\n",
       "      <th>1</th>\n",
       "      <td>0</td>\n",
       "      <td>0</td>\n",
       "      <td>0</td>\n",
       "      <td>0</td>\n",
       "      <td>0</td>\n",
       "      <td>0</td>\n",
       "      <td>0</td>\n",
       "      <td>0</td>\n",
       "      <td>0</td>\n",
       "      <td>0</td>\n",
       "      <td>...</td>\n",
       "      <td>0</td>\n",
       "      <td>0</td>\n",
       "      <td>0</td>\n",
       "      <td>0</td>\n",
       "      <td>0</td>\n",
       "      <td>0</td>\n",
       "      <td>0</td>\n",
       "      <td>0</td>\n",
       "      <td>0</td>\n",
       "      <td>0</td>\n",
       "    </tr>\n",
       "    <tr>\n",
       "      <th>2</th>\n",
       "      <td>0</td>\n",
       "      <td>0</td>\n",
       "      <td>0</td>\n",
       "      <td>0</td>\n",
       "      <td>0</td>\n",
       "      <td>0</td>\n",
       "      <td>0</td>\n",
       "      <td>0</td>\n",
       "      <td>0</td>\n",
       "      <td>0</td>\n",
       "      <td>...</td>\n",
       "      <td>0</td>\n",
       "      <td>0</td>\n",
       "      <td>0</td>\n",
       "      <td>0</td>\n",
       "      <td>0</td>\n",
       "      <td>0</td>\n",
       "      <td>0</td>\n",
       "      <td>0</td>\n",
       "      <td>0</td>\n",
       "      <td>0</td>\n",
       "    </tr>\n",
       "    <tr>\n",
       "      <th>3</th>\n",
       "      <td>0</td>\n",
       "      <td>0</td>\n",
       "      <td>0</td>\n",
       "      <td>0</td>\n",
       "      <td>0</td>\n",
       "      <td>0</td>\n",
       "      <td>0</td>\n",
       "      <td>0</td>\n",
       "      <td>0</td>\n",
       "      <td>0</td>\n",
       "      <td>...</td>\n",
       "      <td>0</td>\n",
       "      <td>0</td>\n",
       "      <td>0</td>\n",
       "      <td>0</td>\n",
       "      <td>0</td>\n",
       "      <td>0</td>\n",
       "      <td>0</td>\n",
       "      <td>0</td>\n",
       "      <td>0</td>\n",
       "      <td>0</td>\n",
       "    </tr>\n",
       "    <tr>\n",
       "      <th>4</th>\n",
       "      <td>0</td>\n",
       "      <td>0</td>\n",
       "      <td>0</td>\n",
       "      <td>0</td>\n",
       "      <td>0</td>\n",
       "      <td>0</td>\n",
       "      <td>0</td>\n",
       "      <td>0</td>\n",
       "      <td>0</td>\n",
       "      <td>0</td>\n",
       "      <td>...</td>\n",
       "      <td>0</td>\n",
       "      <td>0</td>\n",
       "      <td>0</td>\n",
       "      <td>0</td>\n",
       "      <td>0</td>\n",
       "      <td>0</td>\n",
       "      <td>0</td>\n",
       "      <td>0</td>\n",
       "      <td>0</td>\n",
       "      <td>0</td>\n",
       "    </tr>\n",
       "  </tbody>\n",
       "</table>\n",
       "<p>5 rows × 784 columns</p>\n",
       "</div>"
      ],
      "text/plain": [
       "   pixel0  pixel1  pixel2  pixel3  pixel4  pixel5  pixel6  pixel7  pixel8  \\\n",
       "0       0       0       0       0       0       0       0       0       0   \n",
       "1       0       0       0       0       0       0       0       0       0   \n",
       "2       0       0       0       0       0       0       0       0       0   \n",
       "3       0       0       0       0       0       0       0       0       0   \n",
       "4       0       0       0       0       0       0       0       0       0   \n",
       "\n",
       "   pixel9    ...     pixel774  pixel775  pixel776  pixel777  pixel778  \\\n",
       "0       0    ...            0         0         0         0         0   \n",
       "1       0    ...            0         0         0         0         0   \n",
       "2       0    ...            0         0         0         0         0   \n",
       "3       0    ...            0         0         0         0         0   \n",
       "4       0    ...            0         0         0         0         0   \n",
       "\n",
       "   pixel779  pixel780  pixel781  pixel782  pixel783  \n",
       "0         0         0         0         0         0  \n",
       "1         0         0         0         0         0  \n",
       "2         0         0         0         0         0  \n",
       "3         0         0         0         0         0  \n",
       "4         0         0         0         0         0  \n",
       "\n",
       "[5 rows x 784 columns]"
      ]
     },
     "execution_count": 47,
     "metadata": {},
     "output_type": "execute_result"
    }
   ],
   "source": [
    "df=pd.read_csv(\"train.csv\")\n",
    "X_test=pd.read_csv('test.csv')\n",
    "y=df['label'].values\n",
    "X=df.drop(columns=['label'])\n",
    "X.head()"
   ]
  },
  {
   "cell_type": "code",
   "execution_count": 48,
   "metadata": {},
   "outputs": [
    {
     "data": {
      "text/plain": [
       "(42000, 28, 28, 1)"
      ]
     },
     "execution_count": 48,
     "metadata": {},
     "output_type": "execute_result"
    }
   ],
   "source": [
    "X = X.values.reshape(-1,28,28,1)\n",
    "x_test = X_test.values.reshape(-1,28,28,1)\n",
    "X.shape"
   ]
  },
  {
   "cell_type": "code",
   "execution_count": 49,
   "metadata": {},
   "outputs": [],
   "source": [
    "x_train,x_cv,y_train,y_cv=train_test_split(X,y,test_size=.4)"
   ]
  },
  {
   "cell_type": "code",
   "execution_count": 50,
   "metadata": {},
   "outputs": [
    {
     "name": "stdout",
     "output_type": "stream",
     "text": [
      "x_train:(25200, 28, 28, 1) and x_cv:(16800, 28, 28, 1)\n"
     ]
    }
   ],
   "source": [
    "print('x_train:' +str(x_train.shape)+' and x_cv:'+str(x_cv.shape))\n",
    "y_train = keras.utils.to_categorical(y_train, num_classes=10)\n"
   ]
  },
  {
   "cell_type": "code",
   "execution_count": 52,
   "metadata": {},
   "outputs": [
    {
     "name": "stdout",
     "output_type": "stream",
     "text": [
      "Epoch 1/30\n",
      "25200/25200 [==============================] - 7s 259us/step - loss: 6.7419 - acc: 0.5616\n",
      "Epoch 2/30\n",
      "25200/25200 [==============================] - 6s 218us/step - loss: 3.2260 - acc: 0.7796\n",
      "Epoch 3/30\n",
      "25200/25200 [==============================] - 6s 218us/step - loss: 1.8411 - acc: 0.8625\n",
      "Epoch 4/30\n",
      "25200/25200 [==============================] - 6s 218us/step - loss: 0.3346 - acc: 0.9498\n",
      "Epoch 5/30\n",
      "25200/25200 [==============================] - 5s 217us/step - loss: 0.1850 - acc: 0.9646\n",
      "Epoch 6/30\n",
      "25200/25200 [==============================] - 5s 217us/step - loss: 0.1168 - acc: 0.9741\n",
      "Epoch 7/30\n",
      "25200/25200 [==============================] - 5s 218us/step - loss: 0.0850 - acc: 0.9802\n",
      "Epoch 8/30\n",
      "25200/25200 [==============================] - 5s 218us/step - loss: 0.0670 - acc: 0.9835\n",
      "Epoch 9/30\n",
      "25200/25200 [==============================] - 6s 220us/step - loss: 0.0557 - acc: 0.9853\n",
      "Epoch 10/30\n",
      "25200/25200 [==============================] - 6s 218us/step - loss: 0.0500 - acc: 0.9858\n",
      "Epoch 11/30\n",
      "25200/25200 [==============================] - 6s 218us/step - loss: 0.0431 - acc: 0.9877 2s - loss: 0.0384 - acc: 0.98 - \n",
      "Epoch 12/30\n",
      "25200/25200 [==============================] - 5s 217us/step - loss: 0.0385 - acc: 0.9892 1s - loss: 0.0360 - acc: 0 - ETA: 1s - \n",
      "Epoch 13/30\n",
      "25200/25200 [==============================] - 6s 218us/step - loss: 0.0444 - acc: 0.9882\n",
      "Epoch 14/30\n",
      "25200/25200 [==============================] - 5s 218us/step - loss: 0.0363 - acc: 0.9898\n",
      "Epoch 15/30\n",
      "25200/25200 [==============================] - 5s 217us/step - loss: 0.0357 - acc: 0.9903\n",
      "Epoch 16/30\n",
      "25200/25200 [==============================] - 6s 218us/step - loss: 0.0327 - acc: 0.9917\n",
      "Epoch 17/30\n",
      "25200/25200 [==============================] - 6s 219us/step - loss: 0.0328 - acc: 0.9897\n",
      "Epoch 18/30\n",
      "25200/25200 [==============================] - 5s 217us/step - loss: 0.0321 - acc: 0.9920 0s - loss: 0.0319 - acc: 0.9\n",
      "Epoch 19/30\n",
      "25200/25200 [==============================] - 5s 217us/step - loss: 0.0280 - acc: 0.9925\n",
      "Epoch 20/30\n",
      "25200/25200 [==============================] - 5s 218us/step - loss: 0.0298 - acc: 0.9923\n",
      "Epoch 21/30\n",
      "25200/25200 [==============================] - 5s 216us/step - loss: 0.0321 - acc: 0.9917\n",
      "Epoch 22/30\n",
      "25200/25200 [==============================] - 5s 218us/step - loss: 0.0243 - acc: 0.9937\n",
      "Epoch 23/30\n",
      "25200/25200 [==============================] - 5s 213us/step - loss: 0.0244 - acc: 0.9939\n",
      "Epoch 24/30\n",
      "25200/25200 [==============================] - 6s 221us/step - loss: 0.0262 - acc: 0.9936 2s - loss: 0.0203 - acc\n",
      "Epoch 25/30\n",
      "25200/25200 [==============================] - 6s 224us/step - loss: 0.0337 - acc: 0.9926\n",
      "Epoch 26/30\n",
      "25200/25200 [==============================] - 6s 229us/step - loss: 0.0208 - acc: 0.9956\n",
      "Epoch 27/30\n",
      "25200/25200 [==============================] - 5s 216us/step - loss: 0.0236 - acc: 0.9940 1s - los\n",
      "Epoch 28/30\n",
      "25200/25200 [==============================] - 5s 211us/step - loss: 0.0215 - acc: 0.9954\n",
      "Epoch 29/30\n",
      "25200/25200 [==============================] - 5s 211us/step - loss: 0.0220 - acc: 0.9949\n",
      "Epoch 30/30\n",
      "25200/25200 [==============================] - 5s 215us/step - loss: 0.0228 - acc: 0.9944 1s - loss:\n"
     ]
    },
    {
     "data": {
      "text/plain": [
       "<keras.callbacks.History at 0x1da802d3c50>"
      ]
     },
     "execution_count": 52,
     "metadata": {},
     "output_type": "execute_result"
    }
   ],
   "source": [
    "model=Sequential()\n",
    "model.add(Conv2D(6,(5,5),strides=(2,2),activation='relu',input_shape=(28,28,1)))\n",
    "model.add(MaxPooling2D(pool_size=(2,2)))\n",
    "model.add(Flatten())\n",
    "model.add(Dense(100,activation='relu'))\n",
    "model.add(Dense(10,activation='softmax'))\n",
    "model.compile(optimizer='adam',loss='categorical_crossentropy',metrics=['accuracy'])\n",
    "model.fit(x_train,y_train,batch_size=50,epochs=30,verbose=1)"
   ]
  },
  {
   "cell_type": "code",
   "execution_count": 54,
   "metadata": {},
   "outputs": [],
   "source": [
    "y_cv = keras.utils.to_categorical(y_cv, num_classes=10)"
   ]
  },
  {
   "cell_type": "code",
   "execution_count": 55,
   "metadata": {},
   "outputs": [
    {
     "name": "stdout",
     "output_type": "stream",
     "text": [
      "16800/16800 [==============================] - 3s 178us/step\n",
      "\n",
      "Loss = 0.2645070109407063\n",
      "Test Accuracy = 0.9661309523809524\n"
     ]
    }
   ],
   "source": [
    "### START CODE HERE ### (1 line)\n",
    "preds = model.evaluate(x_cv,y_cv,batch_size=16)\n",
    "### END CODE HERE ###\n",
    "print()\n",
    "print (\"Loss = \" + str(preds[0]))\n",
    "print (\"Test Accuracy = \" + str(preds[1]))"
   ]
  },
  {
   "cell_type": "code",
   "execution_count": 56,
   "metadata": {},
   "outputs": [
    {
     "data": {
      "text/plain": [
       "array([[0., 0., 0., ..., 0., 0., 0.],\n",
       "       [0., 0., 1., ..., 0., 0., 0.],\n",
       "       [0., 0., 0., ..., 1., 0., 0.],\n",
       "       ...,\n",
       "       [0., 0., 0., ..., 0., 0., 0.],\n",
       "       [0., 0., 0., ..., 0., 0., 0.],\n",
       "       [0., 0., 0., ..., 0., 0., 0.]], dtype=float32)"
      ]
     },
     "execution_count": 56,
     "metadata": {},
     "output_type": "execute_result"
    }
   ],
   "source": [
    "y_cv"
   ]
  },
  {
   "cell_type": "code",
   "execution_count": null,
   "metadata": {},
   "outputs": [],
   "source": []
  }
 ],
 "metadata": {
  "kernelspec": {
   "display_name": "Python 3",
   "language": "python",
   "name": "python3"
  },
  "language_info": {
   "codemirror_mode": {
    "name": "ipython",
    "version": 3
   },
   "file_extension": ".py",
   "mimetype": "text/x-python",
   "name": "python",
   "nbconvert_exporter": "python",
   "pygments_lexer": "ipython3",
   "version": "3.6.5"
  }
 },
 "nbformat": 4,
 "nbformat_minor": 2
}
